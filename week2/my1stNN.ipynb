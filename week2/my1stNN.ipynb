{
 "cells": [
  {
   "cell_type": "code",
   "execution_count": 17,
   "metadata": {
    "scrolled": true
   },
   "outputs": [
    {
     "data": {
      "image/png": "[encoded data removed]",
      "text/plain": [
       "<matplotlib.figure.Figure at 0x181e6baa90>"
      ]
     },
     "metadata": {},
     "output_type": "display_data"
    }
   ],
   "source": [
    "from preprocessed_mnist import load_dataset\n",
    "X_train, y_train, X_val, y_val, X_test, y_test = load_dataset()\n",
    "import matplotlib.pyplot as plt\n",
    "%matplotlib inline\n",
    "plt.imshow(X_train[0], cmap=\"Greys\");"
   ]
  },
  {
   "cell_type": "code",
   "execution_count": 3,
   "metadata": {},
   "outputs": [],
   "source": [
    "from sklearn.preprocessing import OneHotEncoder\n",
    "import numpy as np"
   ]
  },
  {
   "cell_type": "code",
   "execution_count": 4,
   "metadata": {},
   "outputs": [
    {
     "name": "stdout",
     "output_type": "stream",
     "text": [
      "(10000, 28, 28) (50000,)\n"
     ]
    }
   ],
   "source": [
    "print(X_val.shape, y_train.shape)"
   ]
  },
  {
   "cell_type": "code",
   "execution_count": 5,
   "metadata": {},
   "outputs": [],
   "source": [
    "X_train_new = X_train.reshape([50000, 784])\n",
    "X_val_new = X_val.reshape([10000, 784])\n",
    "X_test_new = X_test.reshape([10000, 784])"
   ]
  },
  {
   "cell_type": "code",
   "execution_count": 6,
   "metadata": {},
   "outputs": [],
   "source": [
    "enc = OneHotEncoder()\n",
    "enc.fit(np.reshape(y_train,(-1,1)))\n",
    "y_train_new = enc.transform(np.reshape(y_train,(-1,1))).toarray()\n",
    "y_val_new = enc.transform(np.reshape(y_val,(-1,1))).toarray()\n",
    "y_test_new = enc.transform(np.reshape(y_test,(-1,1))).toarray()"
   ]
  },
  {
   "cell_type": "markdown",
   "metadata": {},
   "source": [
    "Number of features and number of classes"
   ]
  },
  {
   "cell_type": "code",
   "execution_count": 7,
   "metadata": {},
   "outputs": [],
   "source": [
    "features = X_train.shape[1]*X_train.shape[2]\n",
    "classes = y_train_new.shape[1]\n",
    "hidden_neurons = 500\n",
    "hidden_neurons1 = 200\n",
    "hidden_neurons2 = 50"
   ]
  },
  {
   "cell_type": "markdown",
   "metadata": {},
   "source": [
    "## Logistic regression\n",
    "\n",
    "To classify objects we will obtain probability of object belongs to class '1'. To predict probability we will use output of linear model and logistic function:\n",
    "\n",
    "$$ a(x; w) = \\langle w, x \\rangle $$\n",
    "$$ P( y=1 \\; \\big| \\; x, \\, w) = \\dfrac{1}{1 + \\exp(- \\langle w, x \\rangle)} = \\sigma(\\langle w, x \\rangle)$$"
   ]
  },
  {
   "cell_type": "code",
   "execution_count": 8,
   "metadata": {},
   "outputs": [],
   "source": [
    "import tensorflow as tf\n",
    "import numpy as np\n",
    "import math\n",
    "from tensorflow.python.framework import ops\n",
    "s = tf.InteractiveSession()"
   ]
  },
  {
   "cell_type": "markdown",
   "metadata": {},
   "source": [
    "## Make the model"
   ]
  },
  {
   "cell_type": "code",
   "execution_count": 9,
   "metadata": {},
   "outputs": [],
   "source": [
    "x = tf.placeholder(tf.float32, shape=(None,features))\n",
    "y = tf.placeholder(tf.float32, shape=(None,classes))\n",
    "weight1 = tf.get_variable('weight1', [features, hidden_neurons], initializer=tf.contrib.layers.xavier_initializer())\n",
    "bias1 = tf.get_variable(\"bias1\",  [hidden_neurons], initializer=tf.zeros_initializer())\n",
    "logits_hidden = tf.matmul(x,weight1)+bias1\n",
    "# First hidden layer\n",
    "x_hidden = tf.nn.relu(logits_hidden)\n",
    "x_hidden = tf.nn.dropout(x_hidden, 0.85)\n",
    "weight2 = tf.get_variable(\"weight2\", [hidden_neurons, hidden_neurons1], initializer=tf.contrib.layers.xavier_initializer())\n",
    "bias2 = tf.get_variable(\"bias2\",  [hidden_neurons1], initializer=tf.zeros_initializer())\n",
    "logits_hidden1 = tf.matmul(x_hidden,weight2)+bias2\n",
    "# Second hidden layer\n",
    "x_hidden1 = tf.nn.relu(logits_hidden1)\n",
    "x_hidden1 = tf.nn.dropout(x_hidden1, 0.75)\n",
    "weight3 = tf.get_variable(\"weight3\", [hidden_neurons1, hidden_neurons2], initializer=tf.contrib.layers.xavier_initializer())\n",
    "bias3 = tf.get_variable(\"bias3\",  [hidden_neurons2], initializer=tf.zeros_initializer())\n",
    "logits_hidden2 = tf.matmul(x_hidden1,weight3)+bias3\n",
    "# Third hidden layer\n",
    "x_hidden2 = tf.nn.relu(logits_hidden2)\n",
    "x_hidden2 = tf.nn.dropout(x_hidden2, 0.75)\n",
    "weight4 = tf.get_variable(\"weight4\", [hidden_neurons2, classes], initializer=tf.contrib.layers.xavier_initializer())\n",
    "bias4 = tf.get_variable(\"bias4\",  [classes], initializer=tf.zeros_initializer())\n",
    "logits_final = tf.matmul(x_hidden2,weight4)+bias4\n",
    "## Use sigmoid to get result\n",
    "prediction = tf.nn.sigmoid(logits_final)"
   ]
  },
  {
   "cell_type": "markdown",
   "metadata": {},
   "source": [
    "## Cost Function\n",
    "In logistic regression the optimal parameters $w$ are found by cross-entropy minimization:\n",
    "\n",
    "$$ L(w) =  - {1 \\over \\ell} \\sum_{i=1}^\\ell \\left[ {y_i \\cdot log P(y_i \\, | \\, x_i,w) + (1-y_i) \\cdot log (1-P(y_i\\, | \\, x_i,w))}\\right] $$"
   ]
  },
  {
   "cell_type": "code",
   "execution_count": 10,
   "metadata": {},
   "outputs": [],
   "source": [
    "def log_loss(prediction, y):\n",
    "    logLoss = tf.reduce_mean(tf.nn.softmax_cross_entropy_with_logits(labels=y, logits=prediction))\n",
    "    return logLoss"
   ]
  },
  {
   "cell_type": "markdown",
   "metadata": {},
   "source": [
    "## Mini-batch SGD\n",
    "\n",
    "Stochastic gradient descent just takes a random example on each iteration, calculates a gradient of the loss on it and makes a step:\n",
    "$$ w_t = w_{t-1} - \\eta \\dfrac{1}{m} \\sum_{j=1}^m \\nabla_w L(w_t, x_{i_j}, y_{i_j}) $$\n",
    "\n"
   ]
  },
  {
   "cell_type": "code",
   "execution_count": 15,
   "metadata": {},
   "outputs": [],
   "source": [
    "cost =log_loss(prediction, y)\n",
    "learning_rate0 = 0.08\n",
    "global_step = tf.Variable(0, trainable=False)\n",
    "learning_rate = tf.train.exponential_decay(learning_rate0, global_step, 100, 0.9, staircase=True)\n",
    "optimizer = tf.train.GradientDescentOptimizer(learning_rate).minimize(cost)\n",
    "init = tf.global_variables_initializer()"
   ]
  },
  {
   "cell_type": "markdown",
   "metadata": {},
   "source": [
    "## Train the Model"
   ]
  },
  {
   "cell_type": "code",
   "execution_count": 16,
   "metadata": {},
   "outputs": [
    {
     "name": "stdout",
     "output_type": "stream",
     "text": [
      "Test cost after 10 epochs is 1.6319909\n",
      "Test cost after 20 epochs is 1.5827721\n",
      "Test cost after 30 epochs is 1.5554891\n",
      "Test cost after 40 epochs is 1.5405394\n",
      "Test cost after 50 epochs is 1.530127\n",
      "Test cost after 60 epochs is 1.522825\n",
      "Test cost after 70 epochs is 1.5162258\n",
      "Test cost after 80 epochs is 1.5120541\n",
      "Test cost after 90 epochs is 1.50819\n",
      "Test cost after 100 epochs is 1.5040087\n",
      "Test cost after 110 epochs is 1.5018184\n",
      "Test cost after 120 epochs is 1.4985702\n",
      "Test cost after 130 epochs is 1.4965237\n",
      "Test cost after 140 epochs is 1.4942617\n",
      "Test cost after 150 epochs is 1.492088\n",
      "Test cost after 160 epochs is 1.4904279\n",
      "Test cost after 170 epochs is 1.4889512\n",
      "Test cost after 180 epochs is 1.4874415\n",
      "Test cost after 190 epochs is 1.486216\n",
      "Test cost after 200 epochs is 1.4851686\n"
     ]
    },
    {
     "data": {
      "image/png": "[encoded data removed]",
      "text/plain": [
       "<matplotlib.figure.Figure at 0x181bc9f8d0>"
      ]
     },
     "metadata": {},
     "output_type": "display_data"
    },
    {
     "name": "stdout",
     "output_type": "stream",
     "text": [
      "Train Accuracy is 0.97596\n",
      "Test Accuracy is 0.9665\n"
     ]
    }
   ],
   "source": [
    "epoch = 200\n",
    "batch = 500\n",
    "iterations = list(range(epoch))\n",
    "with tf.Session() as sess:\n",
    "    sess.run(init)\n",
    "    train_loss = []\n",
    "    test_loss = []\n",
    "    for j in range(epoch):\n",
    "        for i in range(0, 50000, batch):\n",
    "            sess.run(optimizer, feed_dict={x:X_train_new[i:i+batch], y:y_train_new[i: i+batch]})\n",
    "        train_loss.append(sess.run(cost, feed_dict={x:X_train_new, y:y_train_new}))\n",
    "        test_loss.append(sess.run(cost, feed_dict={x:X_test_new, y:y_test_new}))\n",
    "        if j%10 == 9:\n",
    "            print(\"Test cost after \" + str(j+1)+ \" epochs is \"+ str(train_loss[-1]))\n",
    "    plt.plot(iterations, train_loss, label='Train')\n",
    "    plt.plot(iterations, test_loss, label='Test')\n",
    "    plt.ylabel('train cost')\n",
    "    plt.xlabel('iterations')\n",
    "    plt.show()\n",
    "    \n",
    "    # Calculate the predictions\n",
    "    predict_op = tf.argmax(logits_final, 1)\n",
    "    correct_prediction = tf.equal(predict_op, tf.argmax(y, 1))\n",
    "\n",
    "    # Calculate accuracy on the test set\n",
    "    accuracy = tf.reduce_mean(tf.cast(correct_prediction, \"float\"))\n",
    "    train_accuracy = accuracy.eval({x: X_train_new, y: y_train_new})\n",
    "    test_accuracy = accuracy.eval({x: X_test_new, y: y_test_new})\n",
    "    print(\"Train Accuracy is\", train_accuracy)\n",
    "    print(\"Test Accuracy is\", test_accuracy)"
   ]
  }
 ],
 "metadata": {
  "kernelspec": {
   "display_name": "Python 3",
   "language": "python",
   "name": "python3"
  },
  "language_info": {
   "codemirror_mode": {
    "name": "ipython",
    "version": 3
   },
   "file_extension": ".py",
   "mimetype": "text/x-python",
   "name": "python",
   "nbconvert_exporter": "python",
   "pygments_lexer": "ipython3",
   "version": "3.6.4"
  }
 },
 "nbformat": 4,
 "nbformat_minor": 2
}
